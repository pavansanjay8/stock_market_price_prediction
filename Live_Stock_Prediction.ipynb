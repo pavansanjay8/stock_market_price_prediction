{
  "cells": [
    {
      "cell_type": "markdown",
      "metadata": {
        "id": "view-in-github",
        "colab_type": "text"
      },
      "source": [
        "<a href=\"https://colab.research.google.com/github/pavansanjay8/stock_market_price_prediction/blob/main/Live_Stock_Prediction.ipynb\" target=\"_parent\"><img src=\"https://colab.research.google.com/assets/colab-badge.svg\" alt=\"Open In Colab\"/></a>"
      ]
    },
    {
      "cell_type": "code",
      "execution_count": null,
      "metadata": {
        "colab": {
          "base_uri": "https://localhost:8080/"
        },
        "id": "f91eb4e9",
        "outputId": "058167cd-2f26-410c-a5ac-4f6120774a08"
      },
      "outputs": [
        {
          "output_type": "stream",
          "name": "stdout",
          "text": [
            "Looking in indexes: https://pypi.org/simple, https://us-python.pkg.dev/colab-wheels/public/simple/\n",
            "Collecting yfinance\n",
            "  Downloading yfinance-0.2.12-py2.py3-none-any.whl (59 kB)\n",
            "\u001b[2K     \u001b[90m━━━━━━━━━━━━━━━━━━━━━━━━━━━━━━━━━━━━━━━━\u001b[0m \u001b[32m59.2/59.2 KB\u001b[0m \u001b[31m6.4 MB/s\u001b[0m eta \u001b[36m0:00:00\u001b[0m\n",
            "\u001b[?25hRequirement already satisfied: pandas>=1.3.0 in /usr/local/lib/python3.9/dist-packages (from yfinance) (1.4.4)\n",
            "Requirement already satisfied: requests>=2.26 in /usr/local/lib/python3.9/dist-packages (from yfinance) (2.27.1)\n",
            "Requirement already satisfied: multitasking>=0.0.7 in /usr/local/lib/python3.9/dist-packages (from yfinance) (0.0.11)\n",
            "Requirement already satisfied: pytz>=2022.5 in /usr/local/lib/python3.9/dist-packages (from yfinance) (2022.7.1)\n",
            "Requirement already satisfied: html5lib>=1.1 in /usr/local/lib/python3.9/dist-packages (from yfinance) (1.1)\n",
            "Requirement already satisfied: numpy>=1.16.5 in /usr/local/lib/python3.9/dist-packages (from yfinance) (1.22.4)\n",
            "Collecting frozendict>=2.3.4\n",
            "  Downloading frozendict-2.3.5-cp39-cp39-manylinux_2_17_x86_64.manylinux2014_x86_64.whl (112 kB)\n",
            "\u001b[2K     \u001b[90m━━━━━━━━━━━━━━━━━━━━━━━━━━━━━━━━━━━━━━\u001b[0m \u001b[32m112.8/112.8 KB\u001b[0m \u001b[31m13.2 MB/s\u001b[0m eta \u001b[36m0:00:00\u001b[0m\n",
            "\u001b[?25hCollecting cryptography>=3.3.2\n",
            "  Downloading cryptography-39.0.2-cp36-abi3-manylinux_2_28_x86_64.whl (4.2 MB)\n",
            "\u001b[2K     \u001b[90m━━━━━━━━━━━━━━━━━━━━━━━━━━━━━━━━━━━━━━━━\u001b[0m \u001b[32m4.2/4.2 MB\u001b[0m \u001b[31m59.6 MB/s\u001b[0m eta \u001b[36m0:00:00\u001b[0m\n",
            "\u001b[?25hCollecting appdirs>=1.4.4\n",
            "  Downloading appdirs-1.4.4-py2.py3-none-any.whl (9.6 kB)\n",
            "Requirement already satisfied: beautifulsoup4>=4.11.1 in /usr/local/lib/python3.9/dist-packages (from yfinance) (4.11.2)\n",
            "Requirement already satisfied: lxml>=4.9.1 in /usr/local/lib/python3.9/dist-packages (from yfinance) (4.9.2)\n",
            "Requirement already satisfied: soupsieve>1.2 in /usr/local/lib/python3.9/dist-packages (from beautifulsoup4>=4.11.1->yfinance) (2.4)\n",
            "Requirement already satisfied: cffi>=1.12 in /usr/local/lib/python3.9/dist-packages (from cryptography>=3.3.2->yfinance) (1.15.1)\n",
            "Requirement already satisfied: webencodings in /usr/local/lib/python3.9/dist-packages (from html5lib>=1.1->yfinance) (0.5.1)\n",
            "Requirement already satisfied: six>=1.9 in /usr/local/lib/python3.9/dist-packages (from html5lib>=1.1->yfinance) (1.15.0)\n",
            "Requirement already satisfied: python-dateutil>=2.8.1 in /usr/local/lib/python3.9/dist-packages (from pandas>=1.3.0->yfinance) (2.8.2)\n",
            "Requirement already satisfied: idna<4,>=2.5 in /usr/local/lib/python3.9/dist-packages (from requests>=2.26->yfinance) (3.4)\n",
            "Requirement already satisfied: certifi>=2017.4.17 in /usr/local/lib/python3.9/dist-packages (from requests>=2.26->yfinance) (2022.12.7)\n",
            "Requirement already satisfied: charset-normalizer~=2.0.0 in /usr/local/lib/python3.9/dist-packages (from requests>=2.26->yfinance) (2.0.12)\n",
            "Requirement already satisfied: urllib3<1.27,>=1.21.1 in /usr/local/lib/python3.9/dist-packages (from requests>=2.26->yfinance) (1.26.15)\n",
            "Requirement already satisfied: pycparser in /usr/local/lib/python3.9/dist-packages (from cffi>=1.12->cryptography>=3.3.2->yfinance) (2.21)\n",
            "Installing collected packages: appdirs, frozendict, cryptography, yfinance\n",
            "Successfully installed appdirs-1.4.4 cryptography-39.0.2 frozendict-2.3.5 yfinance-0.2.12\n"
          ]
        }
      ],
      "source": [
        " #yahoo finance as data source\n",
        "!pip install yfinance\n",
        "import yfinance as yf"
      ],
      "id": "f91eb4e9"
    },
    {
      "cell_type": "code",
      "execution_count": null,
      "metadata": {
        "id": "ee00f18c"
      },
      "outputs": [],
      "source": [
        "#See the yahoo finance ticker for your stock symbol\n",
        "stock_symbol = 'TATAMOTORS.NS'"
      ],
      "id": "ee00f18c"
    },
    {
      "cell_type": "code",
      "execution_count": null,
      "metadata": {
        "colab": {
          "base_uri": "https://localhost:8080/"
        },
        "id": "d365868a",
        "outputId": "f2254496-1d9b-42dd-96d5-c7453fe96b12"
      },
      "outputs": [
        {
          "output_type": "stream",
          "name": "stdout",
          "text": [
            "\r[*********************100%***********************]  1 of 1 completed\n"
          ]
        }
      ],
      "source": [
        "#last 5 years data with interval of 1 day\n",
        "data = yf.download(tickers=stock_symbol,period='5y',interval='1d')"
      ],
      "id": "d365868a"
    },
    {
      "cell_type": "code",
      "execution_count": null,
      "metadata": {
        "colab": {
          "base_uri": "https://localhost:8080/"
        },
        "id": "9f82e205",
        "outputId": "12be5b77-4e9a-4800-9a4c-76f5830256c5"
      },
      "outputs": [
        {
          "output_type": "execute_result",
          "data": {
            "text/plain": [
              "pandas.core.frame.DataFrame"
            ]
          },
          "metadata": {},
          "execution_count": 4
        }
      ],
      "source": [
        "type(data)"
      ],
      "id": "9f82e205"
    },
    {
      "cell_type": "code",
      "execution_count": null,
      "metadata": {
        "colab": {
          "base_uri": "https://localhost:8080/",
          "height": 237
        },
        "id": "dbbe3e6b",
        "outputId": "e175abb6-c69d-48c2-86c6-27a164fe21dc"
      },
      "outputs": [
        {
          "output_type": "execute_result",
          "data": {
            "text/plain": [
              "                  Open        High         Low       Close   Adj Close  \\\n",
              "Date                                                                     \n",
              "2018-03-20  335.500000  340.399994  333.549988  338.799988  338.799988   \n",
              "2018-03-21  339.899994  342.250000  332.250000  333.850006  333.850006   \n",
              "2018-03-22  338.500000  340.250000  334.799988  338.200012  338.200012   \n",
              "2018-03-23  330.000000  334.799988  329.600006  330.850006  330.850006   \n",
              "2018-03-26  328.799988  333.899994  324.299988  332.350006  332.350006   \n",
              "\n",
              "             Volume  \n",
              "Date                 \n",
              "2018-03-20  5080453  \n",
              "2018-03-21  6812442  \n",
              "2018-03-22  9255091  \n",
              "2018-03-23  8578297  \n",
              "2018-03-26  8907023  "
            ],
            "text/html": [
              "\n",
              "  <div id=\"df-b578b630-d6c0-4ada-bfce-557d358a68a9\">\n",
              "    <div class=\"colab-df-container\">\n",
              "      <div>\n",
              "<style scoped>\n",
              "    .dataframe tbody tr th:only-of-type {\n",
              "        vertical-align: middle;\n",
              "    }\n",
              "\n",
              "    .dataframe tbody tr th {\n",
              "        vertical-align: top;\n",
              "    }\n",
              "\n",
              "    .dataframe thead th {\n",
              "        text-align: right;\n",
              "    }\n",
              "</style>\n",
              "<table border=\"1\" class=\"dataframe\">\n",
              "  <thead>\n",
              "    <tr style=\"text-align: right;\">\n",
              "      <th></th>\n",
              "      <th>Open</th>\n",
              "      <th>High</th>\n",
              "      <th>Low</th>\n",
              "      <th>Close</th>\n",
              "      <th>Adj Close</th>\n",
              "      <th>Volume</th>\n",
              "    </tr>\n",
              "    <tr>\n",
              "      <th>Date</th>\n",
              "      <th></th>\n",
              "      <th></th>\n",
              "      <th></th>\n",
              "      <th></th>\n",
              "      <th></th>\n",
              "      <th></th>\n",
              "    </tr>\n",
              "  </thead>\n",
              "  <tbody>\n",
              "    <tr>\n",
              "      <th>2018-03-20</th>\n",
              "      <td>335.500000</td>\n",
              "      <td>340.399994</td>\n",
              "      <td>333.549988</td>\n",
              "      <td>338.799988</td>\n",
              "      <td>338.799988</td>\n",
              "      <td>5080453</td>\n",
              "    </tr>\n",
              "    <tr>\n",
              "      <th>2018-03-21</th>\n",
              "      <td>339.899994</td>\n",
              "      <td>342.250000</td>\n",
              "      <td>332.250000</td>\n",
              "      <td>333.850006</td>\n",
              "      <td>333.850006</td>\n",
              "      <td>6812442</td>\n",
              "    </tr>\n",
              "    <tr>\n",
              "      <th>2018-03-22</th>\n",
              "      <td>338.500000</td>\n",
              "      <td>340.250000</td>\n",
              "      <td>334.799988</td>\n",
              "      <td>338.200012</td>\n",
              "      <td>338.200012</td>\n",
              "      <td>9255091</td>\n",
              "    </tr>\n",
              "    <tr>\n",
              "      <th>2018-03-23</th>\n",
              "      <td>330.000000</td>\n",
              "      <td>334.799988</td>\n",
              "      <td>329.600006</td>\n",
              "      <td>330.850006</td>\n",
              "      <td>330.850006</td>\n",
              "      <td>8578297</td>\n",
              "    </tr>\n",
              "    <tr>\n",
              "      <th>2018-03-26</th>\n",
              "      <td>328.799988</td>\n",
              "      <td>333.899994</td>\n",
              "      <td>324.299988</td>\n",
              "      <td>332.350006</td>\n",
              "      <td>332.350006</td>\n",
              "      <td>8907023</td>\n",
              "    </tr>\n",
              "  </tbody>\n",
              "</table>\n",
              "</div>\n",
              "      <button class=\"colab-df-convert\" onclick=\"convertToInteractive('df-b578b630-d6c0-4ada-bfce-557d358a68a9')\"\n",
              "              title=\"Convert this dataframe to an interactive table.\"\n",
              "              style=\"display:none;\">\n",
              "        \n",
              "  <svg xmlns=\"http://www.w3.org/2000/svg\" height=\"24px\"viewBox=\"0 0 24 24\"\n",
              "       width=\"24px\">\n",
              "    <path d=\"M0 0h24v24H0V0z\" fill=\"none\"/>\n",
              "    <path d=\"M18.56 5.44l.94 2.06.94-2.06 2.06-.94-2.06-.94-.94-2.06-.94 2.06-2.06.94zm-11 1L8.5 8.5l.94-2.06 2.06-.94-2.06-.94L8.5 2.5l-.94 2.06-2.06.94zm10 10l.94 2.06.94-2.06 2.06-.94-2.06-.94-.94-2.06-.94 2.06-2.06.94z\"/><path d=\"M17.41 7.96l-1.37-1.37c-.4-.4-.92-.59-1.43-.59-.52 0-1.04.2-1.43.59L10.3 9.45l-7.72 7.72c-.78.78-.78 2.05 0 2.83L4 21.41c.39.39.9.59 1.41.59.51 0 1.02-.2 1.41-.59l7.78-7.78 2.81-2.81c.8-.78.8-2.07 0-2.86zM5.41 20L4 18.59l7.72-7.72 1.47 1.35L5.41 20z\"/>\n",
              "  </svg>\n",
              "      </button>\n",
              "      \n",
              "  <style>\n",
              "    .colab-df-container {\n",
              "      display:flex;\n",
              "      flex-wrap:wrap;\n",
              "      gap: 12px;\n",
              "    }\n",
              "\n",
              "    .colab-df-convert {\n",
              "      background-color: #E8F0FE;\n",
              "      border: none;\n",
              "      border-radius: 50%;\n",
              "      cursor: pointer;\n",
              "      display: none;\n",
              "      fill: #1967D2;\n",
              "      height: 32px;\n",
              "      padding: 0 0 0 0;\n",
              "      width: 32px;\n",
              "    }\n",
              "\n",
              "    .colab-df-convert:hover {\n",
              "      background-color: #E2EBFA;\n",
              "      box-shadow: 0px 1px 2px rgba(60, 64, 67, 0.3), 0px 1px 3px 1px rgba(60, 64, 67, 0.15);\n",
              "      fill: #174EA6;\n",
              "    }\n",
              "\n",
              "    [theme=dark] .colab-df-convert {\n",
              "      background-color: #3B4455;\n",
              "      fill: #D2E3FC;\n",
              "    }\n",
              "\n",
              "    [theme=dark] .colab-df-convert:hover {\n",
              "      background-color: #434B5C;\n",
              "      box-shadow: 0px 1px 3px 1px rgba(0, 0, 0, 0.15);\n",
              "      filter: drop-shadow(0px 1px 2px rgba(0, 0, 0, 0.3));\n",
              "      fill: #FFFFFF;\n",
              "    }\n",
              "  </style>\n",
              "\n",
              "      <script>\n",
              "        const buttonEl =\n",
              "          document.querySelector('#df-b578b630-d6c0-4ada-bfce-557d358a68a9 button.colab-df-convert');\n",
              "        buttonEl.style.display =\n",
              "          google.colab.kernel.accessAllowed ? 'block' : 'none';\n",
              "\n",
              "        async function convertToInteractive(key) {\n",
              "          const element = document.querySelector('#df-b578b630-d6c0-4ada-bfce-557d358a68a9');\n",
              "          const dataTable =\n",
              "            await google.colab.kernel.invokeFunction('convertToInteractive',\n",
              "                                                     [key], {});\n",
              "          if (!dataTable) return;\n",
              "\n",
              "          const docLinkHtml = 'Like what you see? Visit the ' +\n",
              "            '<a target=\"_blank\" href=https://colab.research.google.com/notebooks/data_table.ipynb>data table notebook</a>'\n",
              "            + ' to learn more about interactive tables.';\n",
              "          element.innerHTML = '';\n",
              "          dataTable['output_type'] = 'display_data';\n",
              "          await google.colab.output.renderOutput(dataTable, element);\n",
              "          const docLink = document.createElement('div');\n",
              "          docLink.innerHTML = docLinkHtml;\n",
              "          element.appendChild(docLink);\n",
              "        }\n",
              "      </script>\n",
              "    </div>\n",
              "  </div>\n",
              "  "
            ]
          },
          "metadata": {},
          "execution_count": 5
        }
      ],
      "source": [
        "data.head()"
      ],
      "id": "dbbe3e6b"
    },
    {
      "cell_type": "code",
      "execution_count": null,
      "metadata": {
        "colab": {
          "base_uri": "https://localhost:8080/"
        },
        "id": "9d445949",
        "outputId": "7bd8bf8d-6a44-4f0a-b138-4ef069a3cc89"
      },
      "outputs": [
        {
          "output_type": "execute_result",
          "data": {
            "text/plain": [
              "1237"
            ]
          },
          "metadata": {},
          "execution_count": 6
        }
      ],
      "source": [
        "len(data)"
      ],
      "id": "9d445949"
    },
    {
      "cell_type": "code",
      "execution_count": null,
      "metadata": {
        "colab": {
          "base_uri": "https://localhost:8080/",
          "height": 237
        },
        "id": "bf283ad5",
        "outputId": "73e113f2-bbbe-463c-fbc7-8366764817a6"
      },
      "outputs": [
        {
          "output_type": "execute_result",
          "data": {
            "text/plain": [
              "                  Open        High         Low       Close   Adj Close  \\\n",
              "Date                                                                     \n",
              "2023-03-14  422.850006  424.200012  413.399994  416.649994  416.649994   \n",
              "2023-03-15  422.000000  425.000000  410.100006  411.350006  411.350006   \n",
              "2023-03-16  413.299988  418.500000  405.000000  415.700012  415.700012   \n",
              "2023-03-17  419.000000  423.450012  414.549988  419.000000  419.000000   \n",
              "2023-03-20  415.600006  416.950012  411.000000  411.049988  411.049988   \n",
              "\n",
              "              Volume  \n",
              "Date                  \n",
              "2023-03-14   9189043  \n",
              "2023-03-15   7681009  \n",
              "2023-03-16  11854885  \n",
              "2023-03-17   8658701  \n",
              "2023-03-20   1781279  "
            ],
            "text/html": [
              "\n",
              "  <div id=\"df-11096dfb-1e53-4c94-9fa2-d5f1d73a5c3d\">\n",
              "    <div class=\"colab-df-container\">\n",
              "      <div>\n",
              "<style scoped>\n",
              "    .dataframe tbody tr th:only-of-type {\n",
              "        vertical-align: middle;\n",
              "    }\n",
              "\n",
              "    .dataframe tbody tr th {\n",
              "        vertical-align: top;\n",
              "    }\n",
              "\n",
              "    .dataframe thead th {\n",
              "        text-align: right;\n",
              "    }\n",
              "</style>\n",
              "<table border=\"1\" class=\"dataframe\">\n",
              "  <thead>\n",
              "    <tr style=\"text-align: right;\">\n",
              "      <th></th>\n",
              "      <th>Open</th>\n",
              "      <th>High</th>\n",
              "      <th>Low</th>\n",
              "      <th>Close</th>\n",
              "      <th>Adj Close</th>\n",
              "      <th>Volume</th>\n",
              "    </tr>\n",
              "    <tr>\n",
              "      <th>Date</th>\n",
              "      <th></th>\n",
              "      <th></th>\n",
              "      <th></th>\n",
              "      <th></th>\n",
              "      <th></th>\n",
              "      <th></th>\n",
              "    </tr>\n",
              "  </thead>\n",
              "  <tbody>\n",
              "    <tr>\n",
              "      <th>2023-03-14</th>\n",
              "      <td>422.850006</td>\n",
              "      <td>424.200012</td>\n",
              "      <td>413.399994</td>\n",
              "      <td>416.649994</td>\n",
              "      <td>416.649994</td>\n",
              "      <td>9189043</td>\n",
              "    </tr>\n",
              "    <tr>\n",
              "      <th>2023-03-15</th>\n",
              "      <td>422.000000</td>\n",
              "      <td>425.000000</td>\n",
              "      <td>410.100006</td>\n",
              "      <td>411.350006</td>\n",
              "      <td>411.350006</td>\n",
              "      <td>7681009</td>\n",
              "    </tr>\n",
              "    <tr>\n",
              "      <th>2023-03-16</th>\n",
              "      <td>413.299988</td>\n",
              "      <td>418.500000</td>\n",
              "      <td>405.000000</td>\n",
              "      <td>415.700012</td>\n",
              "      <td>415.700012</td>\n",
              "      <td>11854885</td>\n",
              "    </tr>\n",
              "    <tr>\n",
              "      <th>2023-03-17</th>\n",
              "      <td>419.000000</td>\n",
              "      <td>423.450012</td>\n",
              "      <td>414.549988</td>\n",
              "      <td>419.000000</td>\n",
              "      <td>419.000000</td>\n",
              "      <td>8658701</td>\n",
              "    </tr>\n",
              "    <tr>\n",
              "      <th>2023-03-20</th>\n",
              "      <td>415.600006</td>\n",
              "      <td>416.950012</td>\n",
              "      <td>411.000000</td>\n",
              "      <td>411.049988</td>\n",
              "      <td>411.049988</td>\n",
              "      <td>1781279</td>\n",
              "    </tr>\n",
              "  </tbody>\n",
              "</table>\n",
              "</div>\n",
              "      <button class=\"colab-df-convert\" onclick=\"convertToInteractive('df-11096dfb-1e53-4c94-9fa2-d5f1d73a5c3d')\"\n",
              "              title=\"Convert this dataframe to an interactive table.\"\n",
              "              style=\"display:none;\">\n",
              "        \n",
              "  <svg xmlns=\"http://www.w3.org/2000/svg\" height=\"24px\"viewBox=\"0 0 24 24\"\n",
              "       width=\"24px\">\n",
              "    <path d=\"M0 0h24v24H0V0z\" fill=\"none\"/>\n",
              "    <path d=\"M18.56 5.44l.94 2.06.94-2.06 2.06-.94-2.06-.94-.94-2.06-.94 2.06-2.06.94zm-11 1L8.5 8.5l.94-2.06 2.06-.94-2.06-.94L8.5 2.5l-.94 2.06-2.06.94zm10 10l.94 2.06.94-2.06 2.06-.94-2.06-.94-.94-2.06-.94 2.06-2.06.94z\"/><path d=\"M17.41 7.96l-1.37-1.37c-.4-.4-.92-.59-1.43-.59-.52 0-1.04.2-1.43.59L10.3 9.45l-7.72 7.72c-.78.78-.78 2.05 0 2.83L4 21.41c.39.39.9.59 1.41.59.51 0 1.02-.2 1.41-.59l7.78-7.78 2.81-2.81c.8-.78.8-2.07 0-2.86zM5.41 20L4 18.59l7.72-7.72 1.47 1.35L5.41 20z\"/>\n",
              "  </svg>\n",
              "      </button>\n",
              "      \n",
              "  <style>\n",
              "    .colab-df-container {\n",
              "      display:flex;\n",
              "      flex-wrap:wrap;\n",
              "      gap: 12px;\n",
              "    }\n",
              "\n",
              "    .colab-df-convert {\n",
              "      background-color: #E8F0FE;\n",
              "      border: none;\n",
              "      border-radius: 50%;\n",
              "      cursor: pointer;\n",
              "      display: none;\n",
              "      fill: #1967D2;\n",
              "      height: 32px;\n",
              "      padding: 0 0 0 0;\n",
              "      width: 32px;\n",
              "    }\n",
              "\n",
              "    .colab-df-convert:hover {\n",
              "      background-color: #E2EBFA;\n",
              "      box-shadow: 0px 1px 2px rgba(60, 64, 67, 0.3), 0px 1px 3px 1px rgba(60, 64, 67, 0.15);\n",
              "      fill: #174EA6;\n",
              "    }\n",
              "\n",
              "    [theme=dark] .colab-df-convert {\n",
              "      background-color: #3B4455;\n",
              "      fill: #D2E3FC;\n",
              "    }\n",
              "\n",
              "    [theme=dark] .colab-df-convert:hover {\n",
              "      background-color: #434B5C;\n",
              "      box-shadow: 0px 1px 3px 1px rgba(0, 0, 0, 0.15);\n",
              "      filter: drop-shadow(0px 1px 2px rgba(0, 0, 0, 0.3));\n",
              "      fill: #FFFFFF;\n",
              "    }\n",
              "  </style>\n",
              "\n",
              "      <script>\n",
              "        const buttonEl =\n",
              "          document.querySelector('#df-11096dfb-1e53-4c94-9fa2-d5f1d73a5c3d button.colab-df-convert');\n",
              "        buttonEl.style.display =\n",
              "          google.colab.kernel.accessAllowed ? 'block' : 'none';\n",
              "\n",
              "        async function convertToInteractive(key) {\n",
              "          const element = document.querySelector('#df-11096dfb-1e53-4c94-9fa2-d5f1d73a5c3d');\n",
              "          const dataTable =\n",
              "            await google.colab.kernel.invokeFunction('convertToInteractive',\n",
              "                                                     [key], {});\n",
              "          if (!dataTable) return;\n",
              "\n",
              "          const docLinkHtml = 'Like what you see? Visit the ' +\n",
              "            '<a target=\"_blank\" href=https://colab.research.google.com/notebooks/data_table.ipynb>data table notebook</a>'\n",
              "            + ' to learn more about interactive tables.';\n",
              "          element.innerHTML = '';\n",
              "          dataTable['output_type'] = 'display_data';\n",
              "          await google.colab.output.renderOutput(dataTable, element);\n",
              "          const docLink = document.createElement('div');\n",
              "          docLink.innerHTML = docLinkHtml;\n",
              "          element.appendChild(docLink);\n",
              "        }\n",
              "      </script>\n",
              "    </div>\n",
              "  </div>\n",
              "  "
            ]
          },
          "metadata": {},
          "execution_count": 7
        }
      ],
      "source": [
        "data.tail()"
      ],
      "id": "bf283ad5"
    },
    {
      "cell_type": "code",
      "execution_count": null,
      "metadata": {
        "id": "6292e20a"
      },
      "outputs": [],
      "source": [
        "opn = data[['Open']]"
      ],
      "id": "6292e20a"
    },
    {
      "cell_type": "code",
      "execution_count": null,
      "metadata": {
        "colab": {
          "base_uri": "https://localhost:8080/",
          "height": 286
        },
        "id": "21e132d8",
        "outputId": "1fcd8bd3-90c8-4403-fc51-29b0e5c9758e"
      },
      "outputs": [
        {
          "output_type": "execute_result",
          "data": {
            "text/plain": [
              "<Axes: xlabel='Date'>"
            ]
          },
          "metadata": {},
          "execution_count": 9
        },
        {
          "output_type": "display_data",
          "data": {
            "text/plain": [
              "<Figure size 432x288 with 1 Axes>"
            ],
            "image/png": "[encoded data removed]"
          },
          "metadata": {
            "needs_background": "light"
          }
        }
      ],
      "source": [
        "opn.plot()"
      ],
      "id": "21e132d8"
    },
    {
      "cell_type": "code",
      "execution_count": null,
      "metadata": {
        "id": "c5194440"
      },
      "outputs": [],
      "source": [
        "import matplotlib.pyplot as plt"
      ],
      "id": "c5194440"
    },
    {
      "cell_type": "code",
      "execution_count": null,
      "metadata": {
        "id": "8038cb6a"
      },
      "outputs": [],
      "source": [
        "ds = opn.values"
      ],
      "id": "8038cb6a"
    },
    {
      "cell_type": "code",
      "execution_count": null,
      "metadata": {
        "colab": {
          "base_uri": "https://localhost:8080/"
        },
        "id": "69b08672",
        "outputId": "0b2bce32-7f72-4e56-b5bb-f0ef17e1fe33"
      },
      "outputs": [
        {
          "output_type": "execute_result",
          "data": {
            "text/plain": [
              "array([[335.5       ],\n",
              "       [339.8999939 ],\n",
              "       [338.5       ],\n",
              "       ...,\n",
              "       [413.29998779],\n",
              "       [419.        ],\n",
              "       [415.6000061 ]])"
            ]
          },
          "metadata": {},
          "execution_count": 12
        }
      ],
      "source": [
        "ds"
      ],
      "id": "69b08672"
    },
    {
      "cell_type": "code",
      "execution_count": null,
      "metadata": {
        "colab": {
          "base_uri": "https://localhost:8080/",
          "height": 282
        },
        "id": "af022e3c",
        "outputId": "37e1f753-497a-4950-ed2b-37da9cec48f9"
      },
      "outputs": [
        {
          "output_type": "execute_result",
          "data": {
            "text/plain": [
              "[<matplotlib.lines.Line2D at 0x7f6f1faed550>]"
            ]
          },
          "metadata": {},
          "execution_count": 13
        },
        {
          "output_type": "display_data",
          "data": {
            "text/plain": [
              "<Figure size 432x288 with 1 Axes>"
            ],
            "image/png": "[encoded data removed]"
          },
          "metadata": {
            "needs_background": "light"
          }
        }
      ],
      "source": [
        "plt.plot(ds)"
      ],
      "id": "af022e3c"
    },
    {
      "cell_type": "code",
      "execution_count": null,
      "metadata": {
        "id": "0e73b789"
      },
      "outputs": [],
      "source": [
        "import numpy as np"
      ],
      "id": "0e73b789"
    },
    {
      "cell_type": "code",
      "execution_count": null,
      "metadata": {
        "id": "0e6c1c22"
      },
      "outputs": [],
      "source": [
        "from sklearn.preprocessing import MinMaxScaler"
      ],
      "id": "0e6c1c22"
    },
    {
      "cell_type": "code",
      "execution_count": null,
      "metadata": {
        "id": "cf6a3e1b"
      },
      "outputs": [],
      "source": [
        "#Using MinMaxScaler for normalizing data between 0 & 1\n",
        "normalizer = MinMaxScaler(feature_range=(0,1))\n",
        "ds_scaled = normalizer.fit_transform(np.array(ds).reshape(-1,1))"
      ],
      "id": "cf6a3e1b"
    },
    {
      "cell_type": "code",
      "execution_count": null,
      "metadata": {
        "colab": {
          "base_uri": "https://localhost:8080/"
        },
        "id": "7dbea1d5",
        "outputId": "d1f04f60-c521-43ae-deb4-dd995cd1d812"
      },
      "outputs": [
        {
          "output_type": "execute_result",
          "data": {
            "text/plain": [
              "(1237, 1237)"
            ]
          },
          "metadata": {},
          "execution_count": 17
        }
      ],
      "source": [
        "len(ds_scaled), len(ds)"
      ],
      "id": "7dbea1d5"
    },
    {
      "cell_type": "code",
      "execution_count": null,
      "metadata": {
        "id": "a20c5654"
      },
      "outputs": [],
      "source": [
        "#Defining test and train data sizes\n",
        "train_size = int(len(ds_scaled)*0.70)\n",
        "test_size = len(ds_scaled) - train_size"
      ],
      "id": "a20c5654"
    },
    {
      "cell_type": "code",
      "execution_count": null,
      "metadata": {
        "colab": {
          "base_uri": "https://localhost:8080/"
        },
        "id": "b964aa4e",
        "outputId": "e7c57437-6cfd-470d-f039-38bd4cd99d12"
      },
      "outputs": [
        {
          "output_type": "execute_result",
          "data": {
            "text/plain": [
              "(865, 372)"
            ]
          },
          "metadata": {},
          "execution_count": 19
        }
      ],
      "source": [
        "train_size,test_size"
      ],
      "id": "b964aa4e"
    },
    {
      "cell_type": "code",
      "execution_count": null,
      "metadata": {
        "id": "25ca615e"
      },
      "outputs": [],
      "source": [
        "#Splitting data between train and test\n",
        "ds_train, ds_test = ds_scaled[0:train_size,:], ds_scaled[train_size:len(ds_scaled),:1]"
      ],
      "id": "25ca615e"
    },
    {
      "cell_type": "code",
      "execution_count": null,
      "metadata": {
        "colab": {
          "base_uri": "https://localhost:8080/"
        },
        "id": "95913f28",
        "outputId": "2e1fead6-7246-4a0b-b2aa-f0f8d645823b"
      },
      "outputs": [
        {
          "output_type": "execute_result",
          "data": {
            "text/plain": [
              "(865, 372)"
            ]
          },
          "metadata": {},
          "execution_count": 21
        }
      ],
      "source": [
        "len(ds_train),len(ds_test)"
      ],
      "id": "95913f28"
    },
    {
      "cell_type": "code",
      "execution_count": null,
      "metadata": {
        "id": "5dd0b45e"
      },
      "outputs": [],
      "source": [
        "#creating dataset in time series for LSTM model \n",
        "#X[100,120,140,160,180] : Y[200]\n",
        "def create_ds(dataset,step):\n",
        "    Xtrain, Ytrain = [], []\n",
        "    for i in range(len(dataset)-step-1):\n",
        "        a = dataset[i:(i+step), 0]\n",
        "        Xtrain.append(a)\n",
        "        Ytrain.append(dataset[i + step, 0])\n",
        "    return np.array(Xtrain), np.array(Ytrain)"
      ],
      "id": "5dd0b45e"
    },
    {
      "cell_type": "code",
      "execution_count": null,
      "metadata": {
        "id": "d28b7d1d"
      },
      "outputs": [],
      "source": [
        "#Taking 100 days price as one record for training\n",
        "time_stamp = 100\n",
        "X_train, y_train = create_ds(ds_train,time_stamp)\n",
        "X_test, y_test = create_ds(ds_test,time_stamp)"
      ],
      "id": "d28b7d1d"
    },
    {
      "cell_type": "code",
      "execution_count": null,
      "metadata": {
        "colab": {
          "base_uri": "https://localhost:8080/"
        },
        "id": "03ce9096",
        "outputId": "5dee6eb3-1c46-4b4d-98a7-ef39f34ebcfb"
      },
      "outputs": [
        {
          "output_type": "execute_result",
          "data": {
            "text/plain": [
              "((764, 100), (764,))"
            ]
          },
          "metadata": {},
          "execution_count": 24
        }
      ],
      "source": [
        "X_train.shape,y_train.shape"
      ],
      "id": "03ce9096"
    },
    {
      "cell_type": "code",
      "execution_count": null,
      "metadata": {
        "colab": {
          "base_uri": "https://localhost:8080/"
        },
        "id": "84acdd72",
        "outputId": "acc4f68b-9247-4a23-ef15-a6a5335e9dd7"
      },
      "outputs": [
        {
          "output_type": "execute_result",
          "data": {
            "text/plain": [
              "((271, 100), (271,))"
            ]
          },
          "metadata": {},
          "execution_count": 25
        }
      ],
      "source": [
        "X_test.shape, y_test.shape"
      ],
      "id": "84acdd72"
    },
    {
      "cell_type": "code",
      "execution_count": null,
      "metadata": {
        "id": "c657d193"
      },
      "outputs": [],
      "source": [
        "#Reshaping data to fit into LSTM model\n",
        "X_train = X_train.reshape(X_train.shape[0],X_train.shape[1] , 1)\n",
        "X_test = X_test.reshape(X_test.shape[0],X_test.shape[1] , 1)"
      ],
      "id": "c657d193"
    },
    {
      "cell_type": "code",
      "execution_count": null,
      "metadata": {
        "id": "82844671"
      },
      "outputs": [],
      "source": [
        "from keras.models import Sequential\n",
        "from keras.layers import Dense, LSTM"
      ],
      "id": "82844671"
    },
    {
      "cell_type": "code",
      "execution_count": null,
      "metadata": {
        "colab": {
          "base_uri": "https://localhost:8080/"
        },
        "id": "b5250913",
        "outputId": "3ca18bbf-27e6-4728-ba8e-9ca291fdf44a"
      },
      "outputs": [
        {
          "output_type": "stream",
          "name": "stdout",
          "text": [
            "Model: \"sequential\"\n",
            "_________________________________________________________________\n",
            " Layer (type)                Output Shape              Param #   \n",
            "=================================================================\n",
            " lstm (LSTM)                 (None, 100, 50)           10400     \n",
            "                                                                 \n",
            " lstm_1 (LSTM)               (None, 100, 50)           20200     \n",
            "                                                                 \n",
            " lstm_2 (LSTM)               (None, 50)                20200     \n",
            "                                                                 \n",
            " dense (Dense)               (None, 1)                 51        \n",
            "                                                                 \n",
            "=================================================================\n",
            "Total params: 50,851\n",
            "Trainable params: 50,851\n",
            "Non-trainable params: 0\n",
            "_________________________________________________________________\n"
          ]
        }
      ],
      "source": [
        "#Creating LSTM model using keras\n",
        "model = Sequential()\n",
        "model.add(LSTM(units=50,return_sequences=True,input_shape=(X_train.shape[1],1)))\n",
        "model.add(LSTM(units=50,return_sequences=True))\n",
        "model.add(LSTM(units=50))\n",
        "model.add(Dense(units=1,activation='linear'))\n",
        "model.summary()"
      ],
      "id": "b5250913"
    },
    {
      "cell_type": "code",
      "execution_count": null,
      "metadata": {
        "colab": {
          "base_uri": "https://localhost:8080/"
        },
        "id": "7e8ff062",
        "outputId": "bb9eca6e-f613-4f67-e75f-5342f0e7d865"
      },
      "outputs": [
        {
          "output_type": "stream",
          "name": "stdout",
          "text": [
            "Epoch 1/100\n",
            "12/12 [==============================] - 10s 301ms/step - loss: 0.0258 - val_loss: 0.0932\n",
            "Epoch 2/100\n",
            "12/12 [==============================] - 4s 393ms/step - loss: 0.0075 - val_loss: 0.0030\n",
            "Epoch 3/100\n",
            "12/12 [==============================] - 3s 196ms/step - loss: 0.0031 - val_loss: 0.0025\n",
            "Epoch 4/100\n",
            "12/12 [==============================] - 2s 191ms/step - loss: 0.0023 - val_loss: 0.0024\n",
            "Epoch 5/100\n",
            "12/12 [==============================] - 2s 193ms/step - loss: 0.0021 - val_loss: 0.0024\n",
            "Epoch 6/100\n",
            "12/12 [==============================] - 2s 192ms/step - loss: 0.0019 - val_loss: 0.0022\n",
            "Epoch 7/100\n",
            "12/12 [==============================] - 3s 291ms/step - loss: 0.0018 - val_loss: 0.0021\n",
            "Epoch 8/100\n",
            "12/12 [==============================] - 2s 194ms/step - loss: 0.0017 - val_loss: 0.0020\n",
            "Epoch 9/100\n",
            "12/12 [==============================] - 2s 193ms/step - loss: 0.0016 - val_loss: 0.0025\n",
            "Epoch 10/100\n",
            "12/12 [==============================] - 2s 192ms/step - loss: 0.0016 - val_loss: 0.0020\n",
            "Epoch 11/100\n",
            "12/12 [==============================] - 2s 195ms/step - loss: 0.0015 - val_loss: 0.0045\n",
            "Epoch 12/100\n",
            "12/12 [==============================] - 3s 279ms/step - loss: 0.0014 - val_loss: 0.0047\n",
            "Epoch 13/100\n",
            "12/12 [==============================] - 2s 199ms/step - loss: 0.0013 - val_loss: 0.0021\n",
            "Epoch 14/100\n",
            "12/12 [==============================] - 2s 198ms/step - loss: 0.0012 - val_loss: 0.0018\n",
            "Epoch 15/100\n",
            "12/12 [==============================] - 2s 195ms/step - loss: 0.0011 - val_loss: 0.0020\n",
            "Epoch 16/100\n",
            "12/12 [==============================] - 2s 200ms/step - loss: 0.0011 - val_loss: 0.0040\n",
            "Epoch 17/100\n",
            "12/12 [==============================] - 3s 286ms/step - loss: 0.0011 - val_loss: 0.0018\n",
            "Epoch 18/100\n",
            "12/12 [==============================] - 3s 222ms/step - loss: 0.0010 - val_loss: 0.0018\n",
            "Epoch 19/100\n",
            "12/12 [==============================] - 2s 195ms/step - loss: 9.9443e-04 - val_loss: 0.0020\n",
            "Epoch 20/100\n",
            "12/12 [==============================] - 2s 197ms/step - loss: 9.4766e-04 - val_loss: 0.0019\n",
            "Epoch 21/100\n",
            "12/12 [==============================] - 2s 197ms/step - loss: 9.8255e-04 - val_loss: 0.0019\n",
            "Epoch 22/100\n",
            "12/12 [==============================] - 3s 299ms/step - loss: 9.3896e-04 - val_loss: 0.0018\n",
            "Epoch 23/100\n",
            "12/12 [==============================] - 2s 201ms/step - loss: 8.9619e-04 - val_loss: 0.0016\n",
            "Epoch 24/100\n",
            "12/12 [==============================] - 2s 196ms/step - loss: 9.7874e-04 - val_loss: 0.0034\n",
            "Epoch 25/100\n",
            "12/12 [==============================] - 3s 214ms/step - loss: 8.8274e-04 - val_loss: 0.0016\n",
            "Epoch 26/100\n",
            "12/12 [==============================] - 2s 201ms/step - loss: 8.4754e-04 - val_loss: 0.0015\n",
            "Epoch 27/100\n",
            "12/12 [==============================] - 3s 295ms/step - loss: 8.0751e-04 - val_loss: 0.0021\n",
            "Epoch 28/100\n",
            "12/12 [==============================] - 2s 201ms/step - loss: 8.2756e-04 - val_loss: 0.0019\n",
            "Epoch 29/100\n",
            "12/12 [==============================] - 2s 196ms/step - loss: 8.3204e-04 - val_loss: 0.0021\n",
            "Epoch 30/100\n",
            "12/12 [==============================] - 2s 201ms/step - loss: 8.3505e-04 - val_loss: 0.0015\n",
            "Epoch 31/100\n",
            "12/12 [==============================] - 2s 209ms/step - loss: 8.7685e-04 - val_loss: 0.0022\n",
            "Epoch 32/100\n",
            "12/12 [==============================] - 3s 280ms/step - loss: 7.9906e-04 - val_loss: 0.0014\n",
            "Epoch 33/100\n",
            "12/12 [==============================] - 2s 199ms/step - loss: 7.4860e-04 - val_loss: 0.0016\n",
            "Epoch 34/100\n",
            "12/12 [==============================] - 2s 199ms/step - loss: 7.5526e-04 - val_loss: 0.0015\n",
            "Epoch 35/100\n",
            "12/12 [==============================] - 2s 202ms/step - loss: 7.2937e-04 - val_loss: 0.0016\n",
            "Epoch 36/100\n",
            "12/12 [==============================] - 3s 224ms/step - loss: 7.1304e-04 - val_loss: 0.0016\n",
            "Epoch 37/100\n",
            "12/12 [==============================] - 3s 264ms/step - loss: 7.0731e-04 - val_loss: 0.0016\n",
            "Epoch 38/100\n",
            "12/12 [==============================] - 2s 204ms/step - loss: 7.1685e-04 - val_loss: 0.0012\n",
            "Epoch 39/100\n",
            "12/12 [==============================] - 2s 203ms/step - loss: 6.7605e-04 - val_loss: 0.0012\n",
            "Epoch 40/100\n",
            "12/12 [==============================] - 2s 197ms/step - loss: 7.1357e-04 - val_loss: 0.0011\n",
            "Epoch 41/100\n",
            "12/12 [==============================] - 3s 245ms/step - loss: 6.9018e-04 - val_loss: 0.0012\n",
            "Epoch 42/100\n",
            "12/12 [==============================] - 3s 248ms/step - loss: 6.9883e-04 - val_loss: 0.0015\n",
            "Epoch 43/100\n",
            "12/12 [==============================] - 2s 205ms/step - loss: 6.6411e-04 - val_loss: 0.0011\n",
            "Epoch 44/100\n",
            "12/12 [==============================] - 2s 200ms/step - loss: 6.4229e-04 - val_loss: 0.0012\n",
            "Epoch 45/100\n",
            "12/12 [==============================] - 2s 203ms/step - loss: 6.9114e-04 - val_loss: 0.0021\n",
            "Epoch 46/100\n",
            "12/12 [==============================] - 3s 257ms/step - loss: 6.8228e-04 - val_loss: 0.0010\n",
            "Epoch 47/100\n",
            "12/12 [==============================] - 3s 233ms/step - loss: 6.4228e-04 - val_loss: 0.0012\n",
            "Epoch 48/100\n",
            "12/12 [==============================] - 2s 204ms/step - loss: 6.2365e-04 - val_loss: 0.0012\n",
            "Epoch 49/100\n",
            "12/12 [==============================] - 2s 203ms/step - loss: 6.3136e-04 - val_loss: 0.0013\n",
            "Epoch 50/100\n",
            "12/12 [==============================] - 2s 200ms/step - loss: 6.6598e-04 - val_loss: 0.0012\n",
            "Epoch 51/100\n",
            "12/12 [==============================] - 3s 270ms/step - loss: 5.9960e-04 - val_loss: 0.0013\n",
            "Epoch 52/100\n",
            "12/12 [==============================] - 3s 214ms/step - loss: 6.7387e-04 - val_loss: 9.8105e-04\n",
            "Epoch 53/100\n",
            "12/12 [==============================] - 2s 204ms/step - loss: 6.3161e-04 - val_loss: 0.0015\n",
            "Epoch 54/100\n",
            "12/12 [==============================] - 2s 204ms/step - loss: 6.2973e-04 - val_loss: 9.4793e-04\n",
            "Epoch 55/100\n",
            "12/12 [==============================] - 2s 206ms/step - loss: 5.9513e-04 - val_loss: 9.5033e-04\n",
            "Epoch 56/100\n",
            "12/12 [==============================] - 3s 294ms/step - loss: 5.9747e-04 - val_loss: 0.0011\n",
            "Epoch 57/100\n",
            "12/12 [==============================] - 2s 204ms/step - loss: 6.0861e-04 - val_loss: 9.5282e-04\n",
            "Epoch 58/100\n",
            "12/12 [==============================] - 2s 203ms/step - loss: 5.6647e-04 - val_loss: 9.1542e-04\n",
            "Epoch 59/100\n",
            "12/12 [==============================] - 2s 200ms/step - loss: 5.6568e-04 - val_loss: 0.0016\n",
            "Epoch 60/100\n",
            "12/12 [==============================] - 2s 209ms/step - loss: 6.3246e-04 - val_loss: 0.0014\n",
            "Epoch 61/100\n",
            "12/12 [==============================] - 3s 299ms/step - loss: 6.0395e-04 - val_loss: 0.0016\n",
            "Epoch 62/100\n",
            "12/12 [==============================] - 2s 205ms/step - loss: 6.0754e-04 - val_loss: 8.9421e-04\n",
            "Epoch 63/100\n",
            "12/12 [==============================] - 2s 204ms/step - loss: 5.5971e-04 - val_loss: 8.8731e-04\n",
            "Epoch 64/100\n",
            "12/12 [==============================] - 2s 202ms/step - loss: 5.6172e-04 - val_loss: 0.0012\n",
            "Epoch 65/100\n",
            "12/12 [==============================] - 3s 213ms/step - loss: 5.4060e-04 - val_loss: 9.3615e-04\n",
            "Epoch 66/100\n",
            "12/12 [==============================] - 3s 285ms/step - loss: 5.2905e-04 - val_loss: 0.0017\n",
            "Epoch 67/100\n",
            "12/12 [==============================] - 2s 207ms/step - loss: 5.7065e-04 - val_loss: 0.0013\n",
            "Epoch 68/100\n",
            "12/12 [==============================] - 2s 204ms/step - loss: 5.3582e-04 - val_loss: 9.3412e-04\n",
            "Epoch 69/100\n",
            "12/12 [==============================] - 2s 208ms/step - loss: 5.2284e-04 - val_loss: 8.3213e-04\n",
            "Epoch 70/100\n",
            "12/12 [==============================] - 3s 239ms/step - loss: 5.1187e-04 - val_loss: 8.5377e-04\n",
            "Epoch 71/100\n",
            "12/12 [==============================] - 3s 255ms/step - loss: 5.3417e-04 - val_loss: 0.0015\n",
            "Epoch 72/100\n",
            "12/12 [==============================] - 2s 204ms/step - loss: 5.7907e-04 - val_loss: 8.0683e-04\n",
            "Epoch 73/100\n",
            "12/12 [==============================] - 2s 208ms/step - loss: 5.0118e-04 - val_loss: 8.1028e-04\n",
            "Epoch 74/100\n",
            "12/12 [==============================] - 2s 207ms/step - loss: 4.9846e-04 - val_loss: 0.0012\n",
            "Epoch 75/100\n",
            "12/12 [==============================] - 3s 269ms/step - loss: 4.9317e-04 - val_loss: 8.2557e-04\n",
            "Epoch 76/100\n",
            "12/12 [==============================] - 3s 228ms/step - loss: 4.9059e-04 - val_loss: 8.2159e-04\n",
            "Epoch 77/100\n",
            "12/12 [==============================] - 2s 200ms/step - loss: 4.9654e-04 - val_loss: 9.3060e-04\n",
            "Epoch 78/100\n",
            "12/12 [==============================] - 2s 204ms/step - loss: 4.8367e-04 - val_loss: 7.8170e-04\n",
            "Epoch 79/100\n",
            "12/12 [==============================] - 2s 207ms/step - loss: 4.7215e-04 - val_loss: 8.0988e-04\n",
            "Epoch 80/100\n",
            "12/12 [==============================] - 3s 301ms/step - loss: 4.7991e-04 - val_loss: 0.0015\n",
            "Epoch 81/100\n",
            "12/12 [==============================] - 2s 205ms/step - loss: 4.8991e-04 - val_loss: 7.5822e-04\n",
            "Epoch 82/100\n",
            "12/12 [==============================] - 2s 207ms/step - loss: 4.7260e-04 - val_loss: 7.5660e-04\n",
            "Epoch 83/100\n",
            "12/12 [==============================] - 2s 205ms/step - loss: 4.5537e-04 - val_loss: 7.5635e-04\n",
            "Epoch 84/100\n",
            "12/12 [==============================] - 2s 205ms/step - loss: 5.0391e-04 - val_loss: 0.0012\n",
            "Epoch 85/100\n",
            "12/12 [==============================] - 3s 298ms/step - loss: 5.6498e-04 - val_loss: 7.2620e-04\n",
            "Epoch 86/100\n",
            "12/12 [==============================] - 2s 205ms/step - loss: 4.6774e-04 - val_loss: 7.1211e-04\n",
            "Epoch 87/100\n",
            "12/12 [==============================] - 2s 207ms/step - loss: 4.5377e-04 - val_loss: 8.7488e-04\n",
            "Epoch 88/100\n",
            "12/12 [==============================] - 2s 207ms/step - loss: 4.3891e-04 - val_loss: 7.3034e-04\n",
            "Epoch 89/100\n",
            "12/12 [==============================] - 3s 225ms/step - loss: 4.6482e-04 - val_loss: 8.0244e-04\n",
            "Epoch 90/100\n",
            "12/12 [==============================] - 3s 266ms/step - loss: 4.2819e-04 - val_loss: 8.1505e-04\n",
            "Epoch 91/100\n",
            "12/12 [==============================] - 2s 208ms/step - loss: 4.4450e-04 - val_loss: 0.0013\n",
            "Epoch 92/100\n",
            "12/12 [==============================] - 2s 206ms/step - loss: 4.8369e-04 - val_loss: 0.0012\n",
            "Epoch 93/100\n",
            "12/12 [==============================] - 2s 208ms/step - loss: 4.4841e-04 - val_loss: 6.7791e-04\n",
            "Epoch 94/100\n",
            "12/12 [==============================] - 3s 257ms/step - loss: 4.2055e-04 - val_loss: 6.7460e-04\n",
            "Epoch 95/100\n",
            "12/12 [==============================] - 3s 237ms/step - loss: 4.7083e-04 - val_loss: 0.0017\n",
            "Epoch 96/100\n",
            "12/12 [==============================] - 2s 205ms/step - loss: 4.5873e-04 - val_loss: 6.9939e-04\n",
            "Epoch 97/100\n",
            "12/12 [==============================] - 2s 208ms/step - loss: 4.3612e-04 - val_loss: 6.6941e-04\n",
            "Epoch 98/100\n",
            "12/12 [==============================] - 2s 205ms/step - loss: 4.3270e-04 - val_loss: 7.3495e-04\n",
            "Epoch 99/100\n",
            "12/12 [==============================] - 3s 295ms/step - loss: 4.2571e-04 - val_loss: 6.9130e-04\n",
            "Epoch 100/100\n",
            "12/12 [==============================] - 3s 206ms/step - loss: 4.1400e-04 - val_loss: 0.0013\n"
          ]
        },
        {
          "output_type": "execute_result",
          "data": {
            "text/plain": [
              "<keras.callbacks.History at 0x7f6ec0f87f70>"
            ]
          },
          "metadata": {},
          "execution_count": 29
        }
      ],
      "source": [
        "#Training model with adam optimizer and mean squared error loss function\n",
        "model.compile(loss='mean_squared_error',optimizer='adam')\n",
        "model.fit(X_train,y_train,validation_data=(X_test,y_test),epochs=100,batch_size=64)"
      ],
      "id": "7e8ff062"
    },
    {
      "cell_type": "code",
      "execution_count": null,
      "metadata": {
        "id": "18b1ba6a",
        "colab": {
          "base_uri": "https://localhost:8080/",
          "height": 282
        },
        "outputId": "972f9805-4ad1-432d-bd61-08bec42b826f"
      },
      "outputs": [
        {
          "output_type": "execute_result",
          "data": {
            "text/plain": [
              "[<matplotlib.lines.Line2D at 0x7f2372886130>]"
            ]
          },
          "metadata": {},
          "execution_count": 60
        },
        {
          "output_type": "display_data",
          "data": {
            "text/plain": [
              "<Figure size 432x288 with 1 Axes>"
            ],
            "image/png": "[encoded data removed]"
          },
          "metadata": {
            "needs_background": "light"
          }
        }
      ],
      "source": [
        "#PLotting loss, it shows that loss has decreased significantly and model trained well\n",
        "loss = model.history.history['loss']\n",
        "plt.plot(loss)"
      ],
      "id": "18b1ba6a"
    },
    {
      "cell_type": "code",
      "execution_count": null,
      "metadata": {
        "colab": {
          "base_uri": "https://localhost:8080/"
        },
        "id": "3e7f2fc8",
        "outputId": "8d819e10-3ff7-4305-f2f9-a2b1527d51b5"
      },
      "outputs": [
        {
          "output_type": "stream",
          "name": "stdout",
          "text": [
            "24/24 [==============================] - 2s 50ms/step\n",
            "9/9 [==============================] - 0s 34ms/step\n"
          ]
        }
      ],
      "source": [
        "#Predicitng on train and test data\n",
        "train_predict = model.predict(X_train)\n",
        "test_predict = model.predict(X_test)"
      ],
      "id": "3e7f2fc8"
    },
    {
      "cell_type": "code",
      "execution_count": null,
      "metadata": {
        "id": "c2d6c2d5"
      },
      "outputs": [],
      "source": [
        "#Inverse transform to get actual value\n",
        "train_predict = normalizer.inverse_transform(train_predict)\n",
        "test_predict = normalizer.inverse_transform(test_predict)"
      ],
      "id": "c2d6c2d5"
    },
    {
      "cell_type": "code",
      "execution_count": null,
      "metadata": {
        "colab": {
          "base_uri": "https://localhost:8080/",
          "height": 282
        },
        "id": "9d0543ad",
        "outputId": "7fcbc759-9d48-4912-bdd3-b7735b3083a5"
      },
      "outputs": [
        {
          "output_type": "execute_result",
          "data": {
            "text/plain": [
              "[<matplotlib.lines.Line2D at 0x7f237277ce50>]"
            ]
          },
          "metadata": {},
          "execution_count": 63
        },
        {
          "output_type": "display_data",
          "data": {
            "text/plain": [
              "<Figure size 432x288 with 1 Axes>"
            ],
            "image/png": "[encoded data removed]"
          },
          "metadata": {
            "needs_background": "light"
          }
        }
      ],
      "source": [
        "#Comparing using visuals\n",
        "plt.plot(normalizer.inverse_transform(ds_scaled))\n",
        "plt.plot(train_predict)\n",
        "plt.plot(test_predict)"
      ],
      "id": "9d0543ad"
    },
    {
      "cell_type": "code",
      "execution_count": null,
      "metadata": {
        "colab": {
          "base_uri": "https://localhost:8080/"
        },
        "id": "55300bae",
        "outputId": "6e36d212-9a45-408d-fe9e-de49e6f7d919"
      },
      "outputs": [
        {
          "output_type": "execute_result",
          "data": {
            "text/plain": [
              "numpy.ndarray"
            ]
          },
          "metadata": {},
          "execution_count": 64
        }
      ],
      "source": [
        "type(train_predict)"
      ],
      "id": "55300bae"
    },
    {
      "cell_type": "code",
      "execution_count": null,
      "metadata": {
        "id": "bf6d5613"
      },
      "outputs": [],
      "source": [
        "test = np.vstack((train_predict,test_predict))"
      ],
      "id": "bf6d5613"
    },
    {
      "cell_type": "code",
      "execution_count": null,
      "metadata": {
        "colab": {
          "base_uri": "https://localhost:8080/",
          "height": 282
        },
        "id": "41b272ff",
        "outputId": "d787dc32-1d65-45af-81f7-f994aa6cfab2"
      },
      "outputs": [
        {
          "output_type": "execute_result",
          "data": {
            "text/plain": [
              "[<matplotlib.lines.Line2D at 0x7f2372723700>]"
            ]
          },
          "metadata": {},
          "execution_count": 66
        },
        {
          "output_type": "display_data",
          "data": {
            "text/plain": [
              "<Figure size 432x288 with 1 Axes>"
            ],
            "image/png": "[encoded data removed]"
          },
          "metadata": {
            "needs_background": "light"
          }
        }
      ],
      "source": [
        "#Combining the predited data to create uniform data visualization\n",
        "plt.plot(normalizer.inverse_transform(ds_scaled))\n",
        "plt.plot(test)"
      ],
      "id": "41b272ff"
    },
    {
      "cell_type": "code",
      "execution_count": null,
      "metadata": {
        "colab": {
          "base_uri": "https://localhost:8080/"
        },
        "id": "16af9283",
        "outputId": "87950c24-0e04-4e85-b916-40bf4ee21690"
      },
      "outputs": [
        {
          "output_type": "execute_result",
          "data": {
            "text/plain": [
              "371"
            ]
          },
          "metadata": {},
          "execution_count": 67
        }
      ],
      "source": [
        "len(ds_test)"
      ],
      "id": "16af9283"
    },
    {
      "cell_type": "code",
      "execution_count": null,
      "metadata": {
        "id": "c13df7b8"
      },
      "outputs": [],
      "source": [
        "#Getting the last 100 days records\n",
        "fut_inp = ds_test[270:]"
      ],
      "id": "c13df7b8"
    },
    {
      "cell_type": "code",
      "execution_count": null,
      "metadata": {
        "id": "52b30579"
      },
      "outputs": [],
      "source": [
        "fut_inp = fut_inp.reshape(1,-1)"
      ],
      "id": "52b30579"
    },
    {
      "cell_type": "code",
      "execution_count": null,
      "metadata": {
        "id": "ac2686a6"
      },
      "outputs": [],
      "source": [
        "tmp_inp = list(fut_inp)"
      ],
      "id": "ac2686a6"
    },
    {
      "cell_type": "code",
      "execution_count": null,
      "metadata": {
        "colab": {
          "base_uri": "https://localhost:8080/"
        },
        "id": "dad5024f",
        "outputId": "e13b834d-ea82-4e6d-a7e4-e143e1449f51"
      },
      "outputs": [
        {
          "output_type": "execute_result",
          "data": {
            "text/plain": [
              "(1, 101)"
            ]
          },
          "metadata": {},
          "execution_count": 71
        }
      ],
      "source": [
        "fut_inp.shape"
      ],
      "id": "dad5024f"
    },
    {
      "cell_type": "code",
      "execution_count": null,
      "metadata": {
        "id": "98042a30"
      },
      "outputs": [],
      "source": [
        "#Creating list of the last 100 data\n",
        "tmp_inp = tmp_inp[0].tolist()"
      ],
      "id": "98042a30"
    },
    {
      "cell_type": "code",
      "execution_count": null,
      "metadata": {
        "colab": {
          "base_uri": "https://localhost:8080/"
        },
        "id": "44799d02",
        "outputId": "d5760678-984f-4867-fe4d-86f6c9b665a7"
      },
      "outputs": [
        {
          "output_type": "stream",
          "name": "stdout",
          "text": [
            "[[0.6981282234191895], [0.7072322368621826], [0.7155890464782715], [0.7233680486679077], [0.7301523089408875], [0.7357732653617859], [0.7403281331062317], [0.7440561056137085], [0.7472481727600098], [0.750182032585144], [0.7530810236930847], [0.7560951113700867], [0.7593001127243042], [0.7627100348472595], [0.7662935853004456], [0.7699958682060242], [0.7737517356872559], [0.7775018811225891], [0.7811986804008484], [0.7848100066184998], [0.788318932056427], [0.7917219996452332], [0.7950248718261719], [0.7982392907142639], [0.8013778328895569], [0.8044534921646118], [0.8074769377708435], [0.8104556798934937], [0.8133943676948547], [0.8162950277328491]]\n"
          ]
        }
      ],
      "source": [
        "#Predicting next 30 days price suing the current data\n",
        "#It will predict in sliding window manner (algorithm) with stride 1\n",
        "lst_output=[]\n",
        "n_steps=100\n",
        "i=0\n",
        "while(i<30):\n",
        "    \n",
        "    if(len(tmp_inp)>100):\n",
        "        fut_inp = np.array(tmp_inp[1:])\n",
        "        fut_inp=fut_inp.reshape(1,-1)\n",
        "        fut_inp = fut_inp.reshape((1, n_steps, 1))\n",
        "        yhat = model.predict(fut_inp, verbose=0)\n",
        "        tmp_inp.extend(yhat[0].tolist())\n",
        "        tmp_inp = tmp_inp[1:]\n",
        "        lst_output.extend(yhat.tolist())\n",
        "        i=i+1\n",
        "    else:\n",
        "        fut_inp = fut_inp.reshape((1, n_steps, 1))\n",
        "        yhat = model.predict(fut_inp, verbose=0)\n",
        "        tmp_inp.extend(yhat[0].tolist())\n",
        "        lst_output.extend(yhat.tolist())\n",
        "        i=i+1\n",
        "    \n",
        "\n",
        "print(lst_output)"
      ],
      "id": "44799d02"
    },
    {
      "cell_type": "code",
      "execution_count": null,
      "metadata": {
        "colab": {
          "base_uri": "https://localhost:8080/"
        },
        "id": "d49a83e5",
        "outputId": "47c2f1a0-2305-4343-e1fd-b8c9de3a957f"
      },
      "outputs": [
        {
          "output_type": "execute_result",
          "data": {
            "text/plain": [
              "1236"
            ]
          },
          "metadata": {},
          "execution_count": 74
        }
      ],
      "source": [
        "len(ds_scaled)"
      ],
      "id": "d49a83e5"
    },
    {
      "cell_type": "code",
      "execution_count": null,
      "metadata": {
        "id": "e41c9362"
      },
      "outputs": [],
      "source": [
        "ds_new = ds_scaled.tolist()"
      ],
      "id": "e41c9362"
    },
    {
      "cell_type": "code",
      "execution_count": null,
      "metadata": {
        "colab": {
          "base_uri": "https://localhost:8080/"
        },
        "id": "d6c8d3c1",
        "outputId": "bf1d31fc-deef-4a52-a84d-bfbe361feb9a"
      },
      "outputs": [
        {
          "output_type": "execute_result",
          "data": {
            "text/plain": [
              "1236"
            ]
          },
          "metadata": {},
          "execution_count": 76
        }
      ],
      "source": [
        "len(ds_new)"
      ],
      "id": "d6c8d3c1"
    },
    {
      "cell_type": "code",
      "execution_count": null,
      "metadata": {
        "id": "7f04f058"
      },
      "outputs": [],
      "source": [
        "#Creating final data for plotting\n",
        "final_graph = normalizer.inverse_transform(ds_new).tolist()"
      ],
      "id": "7f04f058"
    },
    {
      "cell_type": "code",
      "execution_count": null,
      "metadata": {
        "colab": {
          "base_uri": "https://localhost:8080/",
          "height": 312
        },
        "id": "2dfdef30",
        "outputId": "70478a83-6eeb-497e-ba9c-a754ff697cb2"
      },
      "outputs": [
        {
          "output_type": "execute_result",
          "data": {
            "text/plain": [
              "<matplotlib.legend.Legend at 0x7f23726a9ac0>"
            ]
          },
          "metadata": {},
          "execution_count": 78
        },
        {
          "output_type": "display_data",
          "data": {
            "text/plain": [
              "<Figure size 432x288 with 1 Axes>"
            ],
            "image/png": "[encoded data removed]"
          },
          "metadata": {
            "needs_background": "light"
          }
        }
      ],
      "source": [
        "#Plotting final results with predicted value after 30 Days\n",
        "plt.plot(final_graph,)\n",
        "plt.ylabel(\"Price\")\n",
        "plt.xlabel(\"Time\")\n",
        "plt.title(\"{0} prediction of next month open\".format(stock_symbol))\n",
        "plt.axhline(y=final_graph[len(final_graph)-1], color = 'red', linestyle = ':', label = 'NEXT 30D: {0}'.format(round(float(*final_graph[len(final_graph)-1]),2)))\n",
        "plt.legend()\n",
        "\n"
      ],
      "id": "2dfdef30"
    }
  ],
  "metadata": {
    "colab": {
      "provenance": [],
      "include_colab_link": true
    },
    "kernelspec": {
      "display_name": "Python 3",
      "language": "python",
      "name": "python3"
    },
    "language_info": {
      "codemirror_mode": {
        "name": "ipython",
        "version": 3
      },
      "file_extension": ".py",
      "mimetype": "text/x-python",
      "name": "python",
      "nbconvert_exporter": "python",
      "pygments_lexer": "ipython3",
      "version": "3.7.10"
    }
  },
  "nbformat": 4,
  "nbformat_minor": 5
}